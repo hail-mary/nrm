{
  "cells": [
    {
      "cell_type": "code",
      "execution_count": 3,
      "metadata": {
        "colab": {
          "base_uri": "https://localhost:8080/"
        },
        "collapsed": true,
        "id": "AU_uAfJvuVyz",
        "outputId": "40bfbff6-61fd-4fed-ee8a-757b75b2bab8"
      },
      "outputs": [
        {
          "name": "stdout",
          "output_type": "stream",
          "text": [
            "Requirement already satisfied: gymnasium[mujoco] in c:\\users\\zjtwd\\miniconda3\\envs\\dropout_env\\lib\\site-packages (1.0.0)\n",
            "Requirement already satisfied: numpy>=1.21.0 in c:\\users\\zjtwd\\miniconda3\\envs\\dropout_env\\lib\\site-packages (from gymnasium[mujoco]) (1.26.4)\n",
            "Requirement already satisfied: cloudpickle>=1.2.0 in c:\\users\\zjtwd\\miniconda3\\envs\\dropout_env\\lib\\site-packages (from gymnasium[mujoco]) (3.1.0)\n",
            "Requirement already satisfied: typing-extensions>=4.3.0 in c:\\users\\zjtwd\\miniconda3\\envs\\dropout_env\\lib\\site-packages (from gymnasium[mujoco]) (4.12.2)\n",
            "Requirement already satisfied: farama-notifications>=0.0.1 in c:\\users\\zjtwd\\miniconda3\\envs\\dropout_env\\lib\\site-packages (from gymnasium[mujoco]) (0.0.4)\n",
            "Requirement already satisfied: mujoco>=2.1.5 in c:\\users\\zjtwd\\miniconda3\\envs\\dropout_env\\lib\\site-packages (from gymnasium[mujoco]) (3.2.6)\n",
            "Requirement already satisfied: imageio>=2.14.1 in c:\\users\\zjtwd\\miniconda3\\envs\\dropout_env\\lib\\site-packages (from gymnasium[mujoco]) (2.36.1)\n",
            "Requirement already satisfied: pillow>=8.3.2 in c:\\users\\zjtwd\\miniconda3\\envs\\dropout_env\\lib\\site-packages (from imageio>=2.14.1->gymnasium[mujoco]) (11.0.0)\n",
            "Requirement already satisfied: absl-py in c:\\users\\zjtwd\\miniconda3\\envs\\dropout_env\\lib\\site-packages (from mujoco>=2.1.5->gymnasium[mujoco]) (2.1.0)\n",
            "Requirement already satisfied: etils[epath] in c:\\users\\zjtwd\\miniconda3\\envs\\dropout_env\\lib\\site-packages (from mujoco>=2.1.5->gymnasium[mujoco]) (1.11.0)\n",
            "Requirement already satisfied: glfw in c:\\users\\zjtwd\\miniconda3\\envs\\dropout_env\\lib\\site-packages (from mujoco>=2.1.5->gymnasium[mujoco]) (2.8.0)\n",
            "Requirement already satisfied: pyopengl in c:\\users\\zjtwd\\miniconda3\\envs\\dropout_env\\lib\\site-packages (from mujoco>=2.1.5->gymnasium[mujoco]) (3.1.7)\n",
            "Requirement already satisfied: fsspec in c:\\users\\zjtwd\\miniconda3\\envs\\dropout_env\\lib\\site-packages (from etils[epath]->mujoco>=2.1.5->gymnasium[mujoco]) (2024.10.0)\n",
            "Requirement already satisfied: importlib_resources in c:\\users\\zjtwd\\miniconda3\\envs\\dropout_env\\lib\\site-packages (from etils[epath]->mujoco>=2.1.5->gymnasium[mujoco]) (6.4.5)\n",
            "Requirement already satisfied: zipp in c:\\users\\zjtwd\\miniconda3\\envs\\dropout_env\\lib\\site-packages (from etils[epath]->mujoco>=2.1.5->gymnasium[mujoco]) (3.21.0)\n",
            "Requirement already satisfied: stable-baselines3 in c:\\users\\zjtwd\\miniconda3\\envs\\dropout_env\\lib\\site-packages (2.4.0)\n",
            "Requirement already satisfied: gymnasium<1.1.0,>=0.29.1 in c:\\users\\zjtwd\\miniconda3\\envs\\dropout_env\\lib\\site-packages (from stable-baselines3) (1.0.0)\n",
            "Requirement already satisfied: numpy<2.0,>=1.20 in c:\\users\\zjtwd\\miniconda3\\envs\\dropout_env\\lib\\site-packages (from stable-baselines3) (1.26.4)\n",
            "Requirement already satisfied: torch>=1.13 in c:\\users\\zjtwd\\miniconda3\\envs\\dropout_env\\lib\\site-packages (from stable-baselines3) (2.5.1)\n",
            "Requirement already satisfied: cloudpickle in c:\\users\\zjtwd\\miniconda3\\envs\\dropout_env\\lib\\site-packages (from stable-baselines3) (3.1.0)\n",
            "Requirement already satisfied: pandas in c:\\users\\zjtwd\\miniconda3\\envs\\dropout_env\\lib\\site-packages (from stable-baselines3) (2.2.3)\n",
            "Requirement already satisfied: matplotlib in c:\\users\\zjtwd\\miniconda3\\envs\\dropout_env\\lib\\site-packages (from stable-baselines3) (3.9.3)\n",
            "Requirement already satisfied: typing-extensions>=4.3.0 in c:\\users\\zjtwd\\miniconda3\\envs\\dropout_env\\lib\\site-packages (from gymnasium<1.1.0,>=0.29.1->stable-baselines3) (4.12.2)\n",
            "Requirement already satisfied: farama-notifications>=0.0.1 in c:\\users\\zjtwd\\miniconda3\\envs\\dropout_env\\lib\\site-packages (from gymnasium<1.1.0,>=0.29.1->stable-baselines3) (0.0.4)\n",
            "Requirement already satisfied: filelock in c:\\users\\zjtwd\\miniconda3\\envs\\dropout_env\\lib\\site-packages (from torch>=1.13->stable-baselines3) (3.16.1)\n",
            "Requirement already satisfied: networkx in c:\\users\\zjtwd\\miniconda3\\envs\\dropout_env\\lib\\site-packages (from torch>=1.13->stable-baselines3) (3.4.2)\n",
            "Requirement already satisfied: jinja2 in c:\\users\\zjtwd\\miniconda3\\envs\\dropout_env\\lib\\site-packages (from torch>=1.13->stable-baselines3) (3.1.4)\n",
            "Requirement already satisfied: fsspec in c:\\users\\zjtwd\\miniconda3\\envs\\dropout_env\\lib\\site-packages (from torch>=1.13->stable-baselines3) (2024.10.0)\n",
            "Requirement already satisfied: sympy==1.13.1 in c:\\users\\zjtwd\\miniconda3\\envs\\dropout_env\\lib\\site-packages (from torch>=1.13->stable-baselines3) (1.13.1)\n",
            "Requirement already satisfied: mpmath<1.4,>=1.1.0 in c:\\users\\zjtwd\\miniconda3\\envs\\dropout_env\\lib\\site-packages (from sympy==1.13.1->torch>=1.13->stable-baselines3) (1.3.0)\n",
            "Requirement already satisfied: contourpy>=1.0.1 in c:\\users\\zjtwd\\miniconda3\\envs\\dropout_env\\lib\\site-packages (from matplotlib->stable-baselines3) (1.3.1)\n",
            "Requirement already satisfied: cycler>=0.10 in c:\\users\\zjtwd\\miniconda3\\envs\\dropout_env\\lib\\site-packages (from matplotlib->stable-baselines3) (0.12.1)\n",
            "Requirement already satisfied: fonttools>=4.22.0 in c:\\users\\zjtwd\\miniconda3\\envs\\dropout_env\\lib\\site-packages (from matplotlib->stable-baselines3) (4.55.3)\n",
            "Requirement already satisfied: kiwisolver>=1.3.1 in c:\\users\\zjtwd\\miniconda3\\envs\\dropout_env\\lib\\site-packages (from matplotlib->stable-baselines3) (1.4.7)\n",
            "Requirement already satisfied: packaging>=20.0 in c:\\users\\zjtwd\\miniconda3\\envs\\dropout_env\\lib\\site-packages (from matplotlib->stable-baselines3) (24.2)\n",
            "Requirement already satisfied: pillow>=8 in c:\\users\\zjtwd\\miniconda3\\envs\\dropout_env\\lib\\site-packages (from matplotlib->stable-baselines3) (11.0.0)\n",
            "Requirement already satisfied: pyparsing>=2.3.1 in c:\\users\\zjtwd\\miniconda3\\envs\\dropout_env\\lib\\site-packages (from matplotlib->stable-baselines3) (3.2.0)\n",
            "Requirement already satisfied: python-dateutil>=2.7 in c:\\users\\zjtwd\\miniconda3\\envs\\dropout_env\\lib\\site-packages (from matplotlib->stable-baselines3) (2.9.0.post0)\n",
            "Requirement already satisfied: pytz>=2020.1 in c:\\users\\zjtwd\\miniconda3\\envs\\dropout_env\\lib\\site-packages (from pandas->stable-baselines3) (2024.2)\n",
            "Requirement already satisfied: tzdata>=2022.7 in c:\\users\\zjtwd\\miniconda3\\envs\\dropout_env\\lib\\site-packages (from pandas->stable-baselines3) (2024.2)\n",
            "Requirement already satisfied: six>=1.5 in c:\\users\\zjtwd\\miniconda3\\envs\\dropout_env\\lib\\site-packages (from python-dateutil>=2.7->matplotlib->stable-baselines3) (1.17.0)\n",
            "Requirement already satisfied: MarkupSafe>=2.0 in c:\\users\\zjtwd\\miniconda3\\envs\\dropout_env\\lib\\site-packages (from jinja2->torch>=1.13->stable-baselines3) (3.0.2)\n"
          ]
        }
      ],
      "source": [
        "!pip install gymnasium[mujoco]\n",
        "!pip install stable-baselines3"
      ]
    },
    {
      "cell_type": "code",
      "execution_count": 11,
      "metadata": {
        "colab": {
          "base_uri": "https://localhost:8080/",
          "height": 1000
        },
        "id": "ottyVX1ybarc",
        "outputId": "db2869b3-ba60-422a-b4a0-9ae2159e814d"
      },
      "outputs": [],
      "source": [
        "import gymnasium as gym\n",
        "import numpy as np\n",
        "from multiprocessing import Process, Queue\n",
        "from stable_baselines3 import PPO\n",
        "import torch\n",
        "import torch.nn as nn\n",
        "import matplotlib.pyplot as plt\n",
        "import os\n",
        "\n",
        "os.environ[\"MUJOCO_GL\"] = \"glfw\" # or 'egl'\n",
        "\n",
        "env_name = 'Ant-v5'\n",
        "env = gym.make(env_name, render_mode='rgb_array')\n",
        "\n",
        "# set your custom architecture\n",
        "policy_kwargs = {'activation_fn': torch.nn.ReLU, 'net_arch': {'pi': [64, 128], 'vf': [32, 64]}}\n",
        "model = PPO('MlpPolicy', env, policy_kwargs=policy_kwargs)"
      ]
    },
    {
      "cell_type": "code",
      "execution_count": 12,
      "metadata": {},
      "outputs": [
        {
          "data": {
            "text/plain": [
              "{'activation_fn': torch.nn.modules.activation.ReLU,\n",
              " 'net_arch': {'pi': [64, 128], 'vf': [32, 64]}}"
            ]
          },
          "execution_count": 12,
          "metadata": {},
          "output_type": "execute_result"
        }
      ],
      "source": [
        "model.policy_kwargs"
      ]
    },
    {
      "cell_type": "code",
      "execution_count": 13,
      "metadata": {},
      "outputs": [
        {
          "data": {
            "text/plain": [
              "OrderedDict([('log_std', tensor([0., 0., 0., 0., 0., 0., 0., 0.])),\n",
              "             ('mlp_extractor.policy_net.0.weight',\n",
              "              tensor([[ 0.0751,  0.1961, -0.1624,  ...,  0.0180, -0.0207, -0.0952],\n",
              "                      [-0.0009,  0.0155, -0.0358,  ...,  0.1907,  0.0068,  0.1008],\n",
              "                      [ 0.0327, -0.0926, -0.1695,  ...,  0.0517, -0.0656,  0.2301],\n",
              "                      ...,\n",
              "                      [-0.0640, -0.0491, -0.1461,  ...,  0.0579, -0.0094, -0.0487],\n",
              "                      [-0.1815,  0.0672,  0.0532,  ...,  0.1817, -0.0266, -0.0990],\n",
              "                      [-0.1356, -0.0981,  0.0645,  ...,  0.1444,  0.1475, -0.0584]])),\n",
              "             ('mlp_extractor.policy_net.0.bias',\n",
              "              tensor([0., 0., 0., 0., 0., 0., 0., 0., 0., 0., 0., 0., 0., 0., 0., 0., 0., 0., 0., 0., 0., 0., 0., 0.,\n",
              "                      0., 0., 0., 0., 0., 0., 0., 0., 0., 0., 0., 0., 0., 0., 0., 0., 0., 0., 0., 0., 0., 0., 0., 0.,\n",
              "                      0., 0., 0., 0., 0., 0., 0., 0., 0., 0., 0., 0., 0., 0., 0., 0.])),\n",
              "             ('mlp_extractor.policy_net.2.weight',\n",
              "              tensor([[ 0.1038,  0.1306, -0.0305,  ..., -0.0503,  0.2397,  0.0739],\n",
              "                      [ 0.0549, -0.0867,  0.0299,  ...,  0.1240, -0.1025, -0.1384],\n",
              "                      [-0.1171, -0.0661, -0.0829,  ...,  0.0248,  0.1019,  0.0603],\n",
              "                      ...,\n",
              "                      [-0.1558, -0.1280,  0.0339,  ..., -0.0629, -0.0594, -0.1245],\n",
              "                      [ 0.0540,  0.0975, -0.2196,  ..., -0.0886,  0.1201, -0.1165],\n",
              "                      [-0.2001,  0.1126,  0.1059,  ...,  0.1384, -0.0080, -0.0440]])),\n",
              "             ('mlp_extractor.policy_net.2.bias',\n",
              "              tensor([0., 0., 0., 0., 0., 0., 0., 0., 0., 0., 0., 0., 0., 0., 0., 0., 0., 0., 0., 0., 0., 0., 0., 0.,\n",
              "                      0., 0., 0., 0., 0., 0., 0., 0., 0., 0., 0., 0., 0., 0., 0., 0., 0., 0., 0., 0., 0., 0., 0., 0.,\n",
              "                      0., 0., 0., 0., 0., 0., 0., 0., 0., 0., 0., 0., 0., 0., 0., 0., 0., 0., 0., 0., 0., 0., 0., 0.,\n",
              "                      0., 0., 0., 0., 0., 0., 0., 0., 0., 0., 0., 0., 0., 0., 0., 0., 0., 0., 0., 0., 0., 0., 0., 0.,\n",
              "                      0., 0., 0., 0., 0., 0., 0., 0., 0., 0., 0., 0., 0., 0., 0., 0., 0., 0., 0., 0., 0., 0., 0., 0.,\n",
              "                      0., 0., 0., 0., 0., 0., 0., 0.])),\n",
              "             ('mlp_extractor.value_net.0.weight',\n",
              "              tensor([[ 0.3043, -0.0691,  0.1662,  ...,  0.0410,  0.1876,  0.1408],\n",
              "                      [-0.0885,  0.0337,  0.0843,  ..., -0.0829,  0.1896, -0.2818],\n",
              "                      [-0.0096, -0.0627,  0.1183,  ...,  0.0495,  0.1010, -0.0685],\n",
              "                      ...,\n",
              "                      [-0.1261, -0.0387,  0.1617,  ..., -0.1482, -0.2194, -0.1885],\n",
              "                      [ 0.0143,  0.1082,  0.2421,  ...,  0.1361,  0.1071,  0.0470],\n",
              "                      [-0.0091,  0.0286,  0.1779,  ...,  0.0716,  0.1110,  0.1773]])),\n",
              "             ('mlp_extractor.value_net.0.bias',\n",
              "              tensor([0., 0., 0., 0., 0., 0., 0., 0., 0., 0., 0., 0., 0., 0., 0., 0., 0., 0., 0., 0., 0., 0., 0., 0.,\n",
              "                      0., 0., 0., 0., 0., 0., 0., 0.])),\n",
              "             ('mlp_extractor.value_net.2.weight',\n",
              "              tensor([[-0.2497,  0.1422,  0.0094,  ..., -0.2481,  0.2565,  0.2316],\n",
              "                      [-0.3199,  0.0206, -0.0916,  ..., -0.0038, -0.0016,  0.1644],\n",
              "                      [-0.0271,  0.0513,  0.1565,  ..., -0.0321,  0.4027,  0.0844],\n",
              "                      ...,\n",
              "                      [ 0.2744,  0.1720, -0.0714,  ..., -0.1740, -0.0996, -0.1849],\n",
              "                      [-0.1987,  0.0921, -0.0601,  ..., -0.0100, -0.1311,  0.0383],\n",
              "                      [ 0.0563, -0.1989,  0.0848,  ...,  0.0904, -0.1982, -0.1157]])),\n",
              "             ('mlp_extractor.value_net.2.bias',\n",
              "              tensor([0., 0., 0., 0., 0., 0., 0., 0., 0., 0., 0., 0., 0., 0., 0., 0., 0., 0., 0., 0., 0., 0., 0., 0.,\n",
              "                      0., 0., 0., 0., 0., 0., 0., 0., 0., 0., 0., 0., 0., 0., 0., 0., 0., 0., 0., 0., 0., 0., 0., 0.,\n",
              "                      0., 0., 0., 0., 0., 0., 0., 0., 0., 0., 0., 0., 0., 0., 0., 0.])),\n",
              "             ('action_net.weight',\n",
              "              tensor([[-1.3232e-03, -1.4215e-04,  6.4283e-05,  ..., -3.6893e-04,\n",
              "                        2.5430e-04, -8.5413e-04],\n",
              "                      [ 1.5972e-03, -7.1782e-04, -9.5793e-04,  ...,  1.1240e-03,\n",
              "                        1.7642e-03, -6.2522e-04],\n",
              "                      [-7.0878e-04, -5.7103e-05,  9.4986e-04,  ..., -2.4821e-05,\n",
              "                       -4.0549e-04, -4.3381e-04],\n",
              "                      ...,\n",
              "                      [-6.6340e-04, -5.3004e-04,  2.7743e-04,  ...,  3.8722e-04,\n",
              "                        2.0463e-04, -1.1173e-05],\n",
              "                      [ 3.8251e-04, -4.2658e-04, -8.0784e-04,  ...,  1.2401e-03,\n",
              "                        8.9792e-04, -4.8739e-04],\n",
              "                      [-1.0820e-03,  1.4735e-03,  4.3607e-04,  ..., -6.4152e-04,\n",
              "                       -7.5086e-04,  6.4356e-04]])),\n",
              "             ('action_net.bias', tensor([0., 0., 0., 0., 0., 0., 0., 0.])),\n",
              "             ('value_net.weight',\n",
              "              tensor([[ 0.0753, -0.1480, -0.0224,  0.0100,  0.0369,  0.0056, -0.2607, -0.0346,\n",
              "                       -0.0292, -0.1117, -0.1274,  0.1824,  0.1461, -0.1826, -0.0748,  0.1170,\n",
              "                        0.0880, -0.1256,  0.0492, -0.2635,  0.0244, -0.2510,  0.2591,  0.3209,\n",
              "                       -0.0374, -0.1947, -0.1812, -0.0078, -0.1050,  0.0661, -0.0577, -0.0167,\n",
              "                        0.2129, -0.0384,  0.0023, -0.1802, -0.0648, -0.1468, -0.0749, -0.1136,\n",
              "                        0.0429,  0.0454, -0.1114, -0.0454, -0.0597, -0.1876,  0.0502,  0.1246,\n",
              "                       -0.0074,  0.1954,  0.1698,  0.0474,  0.0944,  0.1524,  0.0437,  0.0088,\n",
              "                       -0.1420, -0.0122,  0.0858, -0.0543, -0.0078, -0.0442, -0.0013,  0.0970]])),\n",
              "             ('value_net.bias', tensor([0.]))])"
            ]
          },
          "execution_count": 13,
          "metadata": {},
          "output_type": "execute_result"
        }
      ],
      "source": [
        "model.policy.state_dict()"
      ]
    },
    {
      "cell_type": "code",
      "execution_count": 14,
      "metadata": {},
      "outputs": [
        {
          "name": "stdout",
          "output_type": "stream",
          "text": [
            "log_std torch.Size([8])\n",
            "mlp_extractor.policy_net.0.weight torch.Size([64, 105])\n",
            "mlp_extractor.policy_net.0.bias torch.Size([64])\n",
            "mlp_extractor.policy_net.2.weight torch.Size([128, 64])\n",
            "mlp_extractor.policy_net.2.bias torch.Size([128])\n",
            "mlp_extractor.value_net.0.weight torch.Size([32, 105])\n",
            "mlp_extractor.value_net.0.bias torch.Size([32])\n",
            "mlp_extractor.value_net.2.weight torch.Size([64, 32])\n",
            "mlp_extractor.value_net.2.bias torch.Size([64])\n",
            "action_net.weight torch.Size([8, 128])\n",
            "action_net.bias torch.Size([8])\n",
            "value_net.weight torch.Size([1, 64])\n",
            "value_net.bias torch.Size([1])\n"
          ]
        }
      ],
      "source": [
        "for key, val in model.policy.state_dict().items():\n",
        "    print(key, val.shape)"
      ]
    },
    {
      "cell_type": "code",
      "execution_count": 15,
      "metadata": {},
      "outputs": [
        {
          "data": {
            "text/plain": [
              "<stable_baselines3.ppo.ppo.PPO at 0x2061058ba90>"
            ]
          },
          "execution_count": 15,
          "metadata": {},
          "output_type": "execute_result"
        }
      ],
      "source": [
        "model.learn(total_timesteps=1000)"
      ]
    },
    {
      "cell_type": "code",
      "execution_count": 16,
      "metadata": {},
      "outputs": [],
      "source": [
        "# evaluation\n",
        "observation, info = env.reset()\n",
        "for _ in range(1000):\n",
        "    action = model.predict(observation, deterministic=True)[0]\n",
        "    observation, reward, terminated, truncated, info = env.step(action)\n",
        "    if terminated or truncated:\n",
        "        env.reset()\n",
        "env.close()"
      ]
    }
  ],
  "metadata": {
    "colab": {
      "provenance": []
    },
    "kernelspec": {
      "display_name": "Python 3",
      "name": "python3"
    },
    "language_info": {
      "codemirror_mode": {
        "name": "ipython",
        "version": 3
      },
      "file_extension": ".py",
      "mimetype": "text/x-python",
      "name": "python",
      "nbconvert_exporter": "python",
      "pygments_lexer": "ipython3",
      "version": "3.11.11"
    }
  },
  "nbformat": 4,
  "nbformat_minor": 0
}
